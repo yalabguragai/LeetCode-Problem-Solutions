{
  "nbformat": 4,
  "nbformat_minor": 0,
  "metadata": {
    "colab": {
      "provenance": [],
      "collapsed_sections": [
        "O1f-ioDfykxu",
        "Hrxb1oSi1dPW",
        "ZeYLAZz-2S63",
        "XrfaSuNu5Yvz",
        "gekdk6Ws7GP_",
        "I2QlG83X9txy",
        "JkacOIxj_Kwr",
        "Wi837EHD3I4S",
        "XVJ6hDDHu-6O"
      ]
    },
    "kernelspec": {
      "name": "python3",
      "display_name": "Python 3"
    },
    "language_info": {
      "name": "python"
    }
  },
  "cells": [
    {
      "cell_type": "markdown",
      "source": [
        "# **Hackerrank Problem Solving**"
      ],
      "metadata": {
        "id": "n6DErBj0uwVF"
      }
    },
    {
      "cell_type": "markdown",
      "source": [
        "#  1. Compare the Triplets"
      ],
      "metadata": {
        "id": "O1f-ioDfykxu"
      }
    },
    {
      "cell_type": "markdown",
      "source": [
        "Alice and Bob each created one problem for HackerRank. A reviewer rates the two challenges, awarding points on a scale from 1 to 100 for three categories: problem clarity, originality, and difficulty.  \n",
        "\n",
        "The rating for Alice's challenge is the triplet a = (a[0], a[1], a[2]), and the rating for Bob's challenge is the triplet b = (b[0], b[1], b[2]).  \n",
        "\n",
        "The task is to find their comparison points by comparing a[0] with b[0], a[1] with b[1], and a[2] with b[2].    \n",
        "\n",
        "*   If a[i] > b[i], then Alice is awarded 1 point.\n",
        "*   If a[i] < b[i], then Bob is awarded 1 point.  \n",
        "*   If a[i] = b[i], then neither person receives a point.  \n",
        "\n",
        "Comparison points is the total points a person earned.  \n",
        "\n",
        "Given a and b, determine their respective comparison points.  \n",
        "\n",
        "Example  \n",
        "\n",
        "a = [1, 2, 3]  \n",
        "b = [3, 2, 1]  \n",
        "For elements *0*, Bob is awarded a point because a[0] .  \n",
        "For the equal elements a[1] and b[1], no points are earned.  \n",
        "Finally, for elements 2, a[2] > b[2] so Alice receives a point.  \n",
        "The return array is [1, 1] with Alice's score first and Bob's second.   \n",
        "\n",
        "      Sample Input\n",
        "    5  6  7   \n",
        "    3  6  10   \n",
        "    \n",
        "    Sample Output 0\n",
        "    1 1"
      ],
      "metadata": {
        "id": "MsiTcU7ZzAt_"
      }
    },
    {
      "cell_type": "code",
      "source": [
        "#!/bin/python3\n",
        "\n",
        "import math\n",
        "import os\n",
        "import random\n",
        "import re\n",
        "import sys\n",
        "\n",
        "#\n",
        "# Complete the 'compareTriplets' function below.\n",
        "#\n",
        "# The function is expected to return an INTEGER_ARRAY.\n",
        "# The function accepts following parameters:\n",
        "#  1. INTEGER_ARRAY a\n",
        "#  2. INTEGER_ARRAY b\n",
        "#\n",
        "\n",
        "def compareTriplets(a, b):\n",
        "    # Write your code here\n",
        "    alice = 0\n",
        "    bob = 0\n",
        "    for i in range(len(a)):\n",
        "        if a[i] > b[i]:\n",
        "            alice += 1\n",
        "        elif a[i] < b[i]:\n",
        "            bob += 1\n",
        "        else:\n",
        "            pass\n",
        "    return alice, bob\n"
      ],
      "metadata": {
        "id": "PcDH6-tg1C67"
      },
      "execution_count": 66,
      "outputs": []
    },
    {
      "cell_type": "code",
      "source": [
        "compareTriplets([5,6,7],[3,6,10])"
      ],
      "metadata": {
        "colab": {
          "base_uri": "https://localhost:8080/"
        },
        "id": "Y1akLm3B1MXj",
        "outputId": "5d6ea5c8-ed7a-4365-f0b5-08b429533510"
      },
      "execution_count": 67,
      "outputs": [
        {
          "output_type": "execute_result",
          "data": {
            "text/plain": [
              "(1, 1)"
            ]
          },
          "metadata": {},
          "execution_count": 67
        }
      ]
    },
    {
      "cell_type": "markdown",
      "source": [
        "# 2. A Very Big Sum"
      ],
      "metadata": {
        "id": "Hrxb1oSi1dPW"
      }
    },
    {
      "cell_type": "markdown",
      "source": [
        "In this challenge, you are required to calculate and print the sum of the elements in an array, keeping in mind that some of those integers may be quite large.\n",
        "\n",
        "\n",
        "    Sample Input\n",
        "    1000000001 1000000002 1000000003 1000000004 1000000005  \n",
        "\n",
        "    Output\n",
        "    5000000015"
      ],
      "metadata": {
        "id": "paeX62vy1jyE"
      }
    },
    {
      "cell_type": "code",
      "source": [
        "#!/bin/python3\n",
        "\n",
        "import math\n",
        "import os\n",
        "import random\n",
        "import re\n",
        "import sys\n",
        "\n",
        "#\n",
        "# Complete the 'aVeryBigSum' function below.\n",
        "#\n",
        "# The function is expected to return a LONG_INTEGER.\n",
        "# The function accepts LONG_INTEGER_ARRAY ar as parameter.\n",
        "#\n",
        "\n",
        "def aVeryBigSum(ar):\n",
        "    # Write your code here\n",
        "    n = len(ar)\n",
        "    sum = 0\n",
        "    for i in range(n):\n",
        "        sum = sum + ar[i]\n",
        "    return sum\n",
        "\n"
      ],
      "metadata": {
        "id": "JDPrzYMm12us"
      },
      "execution_count": 68,
      "outputs": []
    },
    {
      "cell_type": "code",
      "source": [
        "aVeryBigSum([1000000001,1000000002,1000000003,1000000004,1000000005])"
      ],
      "metadata": {
        "colab": {
          "base_uri": "https://localhost:8080/"
        },
        "id": "_swUbAyA1-Uk",
        "outputId": "c20855d0-f789-4e93-e6d2-23c7775ebe19"
      },
      "execution_count": 69,
      "outputs": [
        {
          "output_type": "execute_result",
          "data": {
            "text/plain": [
              "5000000015"
            ]
          },
          "metadata": {},
          "execution_count": 69
        }
      ]
    },
    {
      "cell_type": "markdown",
      "source": [
        "# 3. Diagnoal Difference"
      ],
      "metadata": {
        "id": "ZeYLAZz-2S63"
      }
    },
    {
      "cell_type": "markdown",
      "source": [
        "Given a square matrix, calculate the absolute difference between the sums of its diagonals.  \n",
        "\n",
        "For example, the square matrix  is shown below:  \n",
        "\n",
        "1  2     3  \n",
        "4   5   6  \n",
        "9     8    9    \n",
        "The left-to-right diagonal = 1+ 5+ 9 =15 . The right to left diagonal = 3+ 5+ 9 = 17. Their absolute difference is |15-17| = 2.\n",
        "\n",
        "\n",
        "    Sample Input  \n",
        "    3  \n",
        "    11  2  4  \n",
        "    4   5  6  \n",
        "    10  8 -12  \n",
        "\n",
        "    Sample Output  \n",
        "    15"
      ],
      "metadata": {
        "id": "SFkdmqB62Z4Z"
      }
    },
    {
      "cell_type": "code",
      "source": [
        "#!/bin/python3\n",
        "\n",
        "import math\n",
        "import os\n",
        "import random\n",
        "import re\n",
        "import sys\n",
        "\n",
        "#\n",
        "# Complete the 'diagonalDifference' function below.\n",
        "#\n",
        "# The function is expected to return an INTEGER.\n",
        "# The function accepts 2D_INTEGER_ARRAY arr as parameter.\n",
        "#\n",
        "\n",
        "def diagonalDifference(arr):\n",
        "    # Write your code here\n",
        "    n = len(arr)\n",
        "\n",
        "    primarySum = 0\n",
        "    secondarySum = 0\n",
        "\n",
        "    for i  in range(n):\n",
        "        primarySum += arr[i][i]\n",
        "        secondarySum += arr[i][n-i-1]\n",
        "    return abs(primarySum - secondarySum)\n",
        ""
      ],
      "metadata": {
        "id": "jNCbzyHB3M-a"
      },
      "execution_count": 82,
      "outputs": []
    },
    {
      "cell_type": "code",
      "source": [
        "array = [ [11, 2, 4],\n",
        "    [4, 5, 6],\n",
        "    [10, 8, -12]]\n",
        "diagonalDifference(array)"
      ],
      "metadata": {
        "colab": {
          "base_uri": "https://localhost:8080/"
        },
        "id": "QBq-vI2z3uHz",
        "outputId": "18fe7556-f790-4e96-a300-04a689c232da"
      },
      "execution_count": 85,
      "outputs": [
        {
          "output_type": "execute_result",
          "data": {
            "text/plain": [
              "15"
            ]
          },
          "metadata": {},
          "execution_count": 85
        }
      ]
    },
    {
      "cell_type": "markdown",
      "source": [
        "# 4. Plus Minus"
      ],
      "metadata": {
        "id": "XrfaSuNu5Yvz"
      }
    },
    {
      "cell_type": "markdown",
      "source": [
        "Given an array of integers, calculate the ratios of its elements that are positive, negative, and zero. Print the decimal value of each fraction on a new line with  places after the decimal.  \n",
        "\n",
        "Note: This challenge introduces precision problems. The test cases are scaled to six decimal places, though answers with absolute error of up to  are acceptable.\n",
        "  \n",
        "    Sample Input  \n",
        "    STDIN              Function\n",
        "    6                 arr[] size n = 6  \n",
        "    -4 3 -9 0 4 1     arr = [-4, 3, -9, 0, 4, 1]  \n",
        "\n",
        "    Sample Output  \n",
        "    0.500000  \n",
        "    0.333333  \n",
        "    0.166667  \n",
        "\n",
        "Explanation\n",
        "There are 3 positive numbers, 2 negative numbers, and 1 zero in the array.\n",
        "The proportions of occurrence are positive: 3/6= 0.5000000, negative: 2/6 = 0.333333 and zeros: 1/6 = 0.166667."
      ],
      "metadata": {
        "id": "SXm2eFya5imJ"
      }
    },
    {
      "cell_type": "code",
      "source": [
        "#!/bin/python3\n",
        "\n",
        "import math\n",
        "import os\n",
        "import random\n",
        "import re\n",
        "import sys\n",
        "\n",
        "#\n",
        "# Complete the 'plusMinus' function below.\n",
        "#\n",
        "# The function accepts INTEGER_ARRAY arr as parameter.\n",
        "#\n",
        "\n",
        "def plusMinus(arr):\n",
        "    # Write your code here\n",
        "    positive_num, negative_num, zero= 0, 0, 0\n",
        "    x = len(arr)\n",
        "    for num in range(len(arr)):\n",
        "        if arr[num] > 0:\n",
        "            positive_num += 1\n",
        "        elif arr[num] < 0:\n",
        "            negative_num += 1\n",
        "        elif arr[num] == 0:\n",
        "            zero += 1\n",
        "    positive = positive_num/x\n",
        "    negative = negative_num/x\n",
        "    zeroo = zero/x\n",
        "    print(\"{:.6f}\".format(positive))\n",
        "    print(\"{:.6f}\".format(negative))\n",
        "    print(\"{:.6f}\".format(zeroo))\n"
      ],
      "metadata": {
        "id": "_Q-YBA4v6rWZ"
      },
      "execution_count": 86,
      "outputs": []
    },
    {
      "cell_type": "code",
      "source": [
        "plusMinus([-4, 3, -9, 0, 4, 1])"
      ],
      "metadata": {
        "colab": {
          "base_uri": "https://localhost:8080/"
        },
        "id": "fVYCMeCI65Hg",
        "outputId": "b6adf1fb-58cc-4281-b84f-17e49a0fd9cb"
      },
      "execution_count": 87,
      "outputs": [
        {
          "output_type": "stream",
          "name": "stdout",
          "text": [
            "0.500000\n",
            "0.333333\n",
            "0.166667\n"
          ]
        }
      ]
    },
    {
      "cell_type": "markdown",
      "source": [
        "# 5. Staircase"
      ],
      "metadata": {
        "id": "gekdk6Ws7GP_"
      }
    },
    {
      "cell_type": "markdown",
      "source": [
        "Staircase detail\n",
        "\n",
        "    Sample Input\n",
        "    4\n",
        "    \n",
        "    Sample Output\n",
        "          #\n",
        "        ##\n",
        "      ###\n",
        "    ####\n",
        "\n",
        "    \n",
        "Its base and height are both equal to n. It is drawn using # symbols and spaces. The last line is not preceded by any spaces.\n",
        "\n",
        "Write a program that prints a staircase of size n.\n"
      ],
      "metadata": {
        "id": "8VFK4xFA7T38"
      }
    },
    {
      "cell_type": "code",
      "source": [
        "def staircase(n):\n",
        "    for i in range(1, n + 1):\n",
        "            print(\" \" * (n-i) + \"#\" * i)\n"
      ],
      "metadata": {
        "id": "3uzwmFYT7TaA"
      },
      "execution_count": 88,
      "outputs": []
    },
    {
      "cell_type": "code",
      "source": [
        "staircase(6)"
      ],
      "metadata": {
        "colab": {
          "base_uri": "https://localhost:8080/"
        },
        "id": "7mF65yBj7OJQ",
        "outputId": "062b9bb0-08a3-4b1d-bc13-7c4c89e95902"
      },
      "execution_count": 90,
      "outputs": [
        {
          "output_type": "stream",
          "name": "stdout",
          "text": [
            "     #\n",
            "    ##\n",
            "   ###\n",
            "  ####\n",
            " #####\n",
            "######\n"
          ]
        }
      ]
    },
    {
      "cell_type": "markdown",
      "source": [
        "# 6. Min-Max Sum"
      ],
      "metadata": {
        "id": "I2QlG83X9txy"
      }
    },
    {
      "cell_type": "markdown",
      "source": [
        "Given five positive integers, find the minimum and maximum values that can be calculated by summing exactly four of the five integers. Then print the respective minimum and maximum values as a single line of two space-separated long integers.  \n",
        "\n",
        "Example  \n",
        "arr = [1,3,5,7,9]\n",
        "\n",
        "The minimum sum is 1+3+5+7 = 16 and the maximum sum is 3+5+7+9 = 24 . The function prints\n",
        "\n",
        "16 24\n",
        "\n",
        "    Sample Input\n",
        "\n",
        "    1 2 3 4 5\n",
        "    Sample Output\n",
        "\n",
        "    10 14\n",
        "\n",
        "Explanation  \n",
        "The numbers are 1, 2, 3, 4, and 5. Calculate the following sums using four of the five integers:  \n",
        "\n",
        "Sum everything except 1, the sum is 2+3+4+5= 14.  \n",
        "Sum everything except 2, the sum is 1+3+4+5= 13.  \n",
        "Sum everything except 3, the sum is 1+2+4+5= 12.  \n",
        "Sum everything except 4, the sum is 1+2+3+5= 11.  \n",
        "Sum everything except 5, the sum is 1+2+3+4= 10.  "
      ],
      "metadata": {
        "id": "iRbwKce7-CC5"
      }
    },
    {
      "cell_type": "code",
      "source": [
        "#!/bin/python3\n",
        "\n",
        "import math\n",
        "import os\n",
        "import random\n",
        "import re\n",
        "import sys\n",
        "\n",
        "#\n",
        "# Complete the 'miniMaxSum' function below.\n",
        "#\n",
        "# The function accepts INTEGER_ARRAY arr as parameter.\n",
        "#\n",
        "\n",
        "def miniMaxSum(arr):\n",
        "    # Write your code here\n",
        "    total = sum(arr)\n",
        "    sub_list = [0]*len(arr)\n",
        "    for i in range(len(arr)):\n",
        "        sub_list[i] = total-arr[i]\n",
        "    print(min(sub_list), max(sub_list))\n",
        "\n"
      ],
      "metadata": {
        "id": "YId2YWb0-7Zh"
      },
      "execution_count": 91,
      "outputs": []
    },
    {
      "cell_type": "code",
      "source": [
        "miniMaxSum([1,2,3,4,5])"
      ],
      "metadata": {
        "colab": {
          "base_uri": "https://localhost:8080/"
        },
        "id": "pjqxd4Lc_DFJ",
        "outputId": "93e3b0ee-e065-4198-f774-9ca1f08713bb"
      },
      "execution_count": 92,
      "outputs": [
        {
          "output_type": "stream",
          "name": "stdout",
          "text": [
            "10 14\n"
          ]
        }
      ]
    },
    {
      "cell_type": "markdown",
      "source": [
        "# 7. Birthday Cake Candles"
      ],
      "metadata": {
        "id": "JkacOIxj_Kwr"
      }
    },
    {
      "cell_type": "markdown",
      "source": [
        "You are in charge of the cake for a child's birthday. You have decided the cake will have one candle for each year of their total age. They will only be able to blow out the tallest of the candles. Count how many candles are tallest.\n",
        "\n",
        "Example  \n",
        "candles = [4,4,1,3]\n",
        "\n",
        "The maximum height candles are 4 units high. There are 2 of them, so return 2.\n",
        "\n",
        "    Sample Input\n",
        "    3 2 1 3\n",
        "    Sample Output\n",
        "    2\n",
        "\n",
        "Explanation  \n",
        "Candle heights are [3,2,1,3]. The tallest candles are 3 units, and there are 2 of them.\n"
      ],
      "metadata": {
        "id": "Q27Ws3OL_aTp"
      }
    },
    {
      "cell_type": "code",
      "source": [
        "#!/bin/python3\n",
        "\n",
        "import math\n",
        "import os\n",
        "import random\n",
        "import re\n",
        "import sys\n",
        "\n",
        "#\n",
        "# Complete the 'birthdayCakeCandles' function below.\n",
        "#\n",
        "# The function is expected to return an INTEGER.\n",
        "# The function accepts INTEGER_ARRAY candles as parameter.\n",
        "#\n",
        "\n",
        "def birthdayCakeCandles(candles):\n",
        "    # Write your code here\n",
        "    max_number = candles[0]\n",
        "    count = 1\n",
        "    for current_number in candles[1:]:\n",
        "        if current_number > max_number:\n",
        "            max_number = current_number\n",
        "            count = 1\n",
        "        elif current_number == max_number:\n",
        "            count += 1\n",
        "    return count\n"
      ],
      "metadata": {
        "id": "LUl9tK1F_-0p"
      },
      "execution_count": 93,
      "outputs": []
    },
    {
      "cell_type": "code",
      "source": [
        "birthdayCakeCandles([3,2,1,3])"
      ],
      "metadata": {
        "colab": {
          "base_uri": "https://localhost:8080/"
        },
        "id": "Nj4RG6d6AGYS",
        "outputId": "4770fe7e-4b95-40ca-be3d-173766ca6709"
      },
      "execution_count": 94,
      "outputs": [
        {
          "output_type": "execute_result",
          "data": {
            "text/plain": [
              "2"
            ]
          },
          "metadata": {},
          "execution_count": 94
        }
      ]
    },
    {
      "cell_type": "markdown",
      "source": [
        "# 8. Millitary Time Converter\n"
      ],
      "metadata": {
        "id": "Wi837EHD3I4S"
      }
    },
    {
      "cell_type": "markdown",
      "source": [
        "Given a time in -hour AM/PM format, convert it to military (24-hour) time.\n",
        "\n",
        "Note: - 12:00:00AM on a 12-hour clock is 00:00:00 on a 24-hour clock.\n",
        "- 12:00:00PM on a 12-hour clock is 12:00:00 on a 24-hour clock.\n",
        "\n",
        "Example\n",
        "*  s= '12:01:00PM'\n",
        "      Return '12:01:00'.\n",
        "\n",
        "*  s= '12:01:00AM'\n",
        "      Return '00:01:00'.\n",
        "\n",
        "        Sample Input\n",
        "        07:05:45PM\n",
        "        \n",
        "        Sample Output\n",
        "        19:05:45\n",
        "\n"
      ],
      "metadata": {
        "id": "EBi8TcWHw_XU"
      }
    },
    {
      "cell_type": "code",
      "execution_count": null,
      "metadata": {
        "id": "YO2kBbHa3ISf"
      },
      "outputs": [],
      "source": [
        "def timeConversion(s):\n",
        "    period = s[-2:]\n",
        "\n",
        "    # Extract hours, minutes, and seconds as strings\n",
        "    hh_str = s[:2]\n",
        "    mm = s[3:5]\n",
        "    ss = s[6:8]\n",
        "\n",
        "    # Convert hours from string to integer\n",
        "    hh = int(hh_str)\n",
        "\n",
        "    # Convert hours to 24-hour format\n",
        "    if period == \"AM\":\n",
        "        if hh == 12:  # Midnight case\n",
        "            hh = 0\n",
        "    else:  # PM case\n",
        "        if hh != 12:  # Noon case should stay as 12\n",
        "            hh += 12\n",
        "\n",
        "    # Format the hours to be two digits without using built-in functions\n",
        "    hh_24 = f\"{hh:02}\"\n",
        "\n",
        "    # Construct the 24-hour format time string\n",
        "    return f\"{hh_24}:{mm}:{ss}\""
      ]
    },
    {
      "cell_type": "code",
      "source": [
        "timeConversion('01:00:01AM')"
      ],
      "metadata": {
        "colab": {
          "base_uri": "https://localhost:8080/",
          "height": 35
        },
        "id": "nrPTVZkL3SAO",
        "outputId": "1ba3680d-5f81-4f01-d92d-da37b5765bcc"
      },
      "execution_count": null,
      "outputs": [
        {
          "output_type": "execute_result",
          "data": {
            "text/plain": [
              "'01:00:01'"
            ],
            "application/vnd.google.colaboratory.intrinsic+json": {
              "type": "string"
            }
          },
          "metadata": {},
          "execution_count": 33
        }
      ]
    },
    {
      "cell_type": "markdown",
      "source": [
        "# 9. Grading Students"
      ],
      "metadata": {
        "id": "XVJ6hDDHu-6O"
      }
    },
    {
      "cell_type": "markdown",
      "source": [
        "HackerLand University has the following grading policy:\n",
        "\n",
        "1.   Every student receives a grade in the inclusive range from  0 to 100.\n",
        "2.   Any  less than  is a failing grade.\n",
        "\n",
        "Sam is a professor at the university and likes to round each student's  according to these rules:\n",
        "\n",
        "  \n",
        "*   If the difference between the grade and the next multiple of 5 is less than 3, round grade up to the next multiple of 5.\n",
        "\n",
        "*   If the value of  is less than 38, no rounding occurs as the result will still be a failing grade.\n",
        "\n",
        "\n",
        "    Sample Input  \n",
        "    73  \n",
        "    67  \n",
        "    38  \n",
        "    33\n",
        "\n",
        "    Sample Output\n",
        "    75  \n",
        "    67  \n",
        "    40  \n",
        "    33"
      ],
      "metadata": {
        "id": "XFLdWe2nxaeh"
      }
    },
    {
      "cell_type": "code",
      "source": [
        "def gradingStudents(grades):\n",
        "  upgraded_list = []\n",
        "  for grade in grades:\n",
        "    if grade < 38:\n",
        "      upgraded_list.append(grade)\n",
        "    else:\n",
        "      floor_quotient = grade//5\n",
        "      #diff = (floor_quotient+1)*5 - grades[grade]\n",
        "      #print([diff])\n",
        "      next_multiple = (floor_quotient + 1)*5\n",
        "      if (next_multiple - grade) <3:\n",
        "       upgraded_list.append(next_multiple)\n",
        "      else:\n",
        "        upgraded_list.append(grade)\n",
        "  return upgraded_list\n",
        ""
      ],
      "metadata": {
        "id": "OsCCt7DCwxH7"
      },
      "execution_count": 61,
      "outputs": []
    },
    {
      "cell_type": "code",
      "source": [
        "gradingStudents([73, 67, 38, 33])"
      ],
      "metadata": {
        "colab": {
          "base_uri": "https://localhost:8080/"
        },
        "id": "7XynSXJX0GpW",
        "outputId": "67dd6ea1-1150-4537-fd45-454690fbe1c7"
      },
      "execution_count": 64,
      "outputs": [
        {
          "output_type": "execute_result",
          "data": {
            "text/plain": [
              "[75, 67, 40, 33]"
            ]
          },
          "metadata": {},
          "execution_count": 64
        }
      ]
    }
  ]
}