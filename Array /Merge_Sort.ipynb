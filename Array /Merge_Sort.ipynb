{
  "nbformat": 4,
  "nbformat_minor": 0,
  "metadata": {
    "colab": {
      "provenance": []
    },
    "kernelspec": {
      "name": "python3",
      "display_name": "Python 3"
    },
    "language_info": {
      "name": "python"
    }
  },
  "cells": [
    {
      "cell_type": "code",
      "execution_count": null,
      "metadata": {
        "colab": {
          "base_uri": "https://localhost:8080/"
        },
        "id": "x0ALFDfYcY2D",
        "outputId": "f8fa851b-421b-4a99-d600-794feab89b6e"
      },
      "outputs": [
        {
          "output_type": "stream",
          "name": "stdout",
          "text": [
            "0\n",
            "0\n",
            "3\n",
            "1\n"
          ]
        }
      ],
      "source": [
        "nums1= [1,2,3,0,0,0]\n",
        "nums2=[2,5,6]\n",
        "m=3\n",
        "n=3\n",
        "i = m-1\n",
        "j = n-1\n",
        "index1 = m+n-1\n",
        "\n",
        "while i >= 0 and j >= 0:\n",
        "    if nums1[i] > nums2[j]:\n",
        "        nums1[index1] = nums1[i]\n",
        "        i -= 1\n",
        "        index1 -= 1\n",
        "\n",
        "    elif nums2[j] > nums1[i]:\n",
        "        nums1[index1] = nums2[j]\n",
        "        j -= 1\n",
        "        index1 -= 1\n",
        "\n",
        "    else:\n",
        "        nums1[index1] = nums1[i]\n",
        "        nums1[index1-1] = nums2[j]\n",
        "        i -= 1\n",
        "        j -= 1\n",
        "        index1 -= 2\n",
        "\n",
        "    print(nums1[index1])\n"
      ]
    },
    {
      "cell_type": "code",
      "source": [
        "def merge(nums1, m, nums2, n):\n",
        "  \"\"\"\n",
        "    :type nums1: List[int]\n",
        "    :type m: int\n",
        "    :type nums2: List[int]\n",
        "    :type n: int\n",
        "    :rtype: None Do not return anything, modify nums1 in-place instead.\n",
        "    \"\"\"\n",
        "  i = m-1\n",
        "  j = n-1\n",
        "  index1 = m+n-1\n",
        "\n",
        "  while i >= 0 and j >= 0:\n",
        "      if nums1[i] > nums2[j]:\n",
        "          nums1[index1] = nums1[i]\n",
        "          i -= 1\n",
        "          index1 -= 1\n",
        "\n",
        "      elif nums2[j] > nums1[i]:\n",
        "          nums1[index1] = nums2[j]\n",
        "          j -= 1\n",
        "          index1 -= 1\n",
        "\n",
        "      else:\n",
        "          nums1[index1] = nums1[i]\n",
        "          nums1[index1-1] = nums2[j]\n",
        "          i -= 1\n",
        "          j -= 1\n",
        "          index1 -= 2\n",
        "\n",
        "  while j >= 0:\n",
        "      nums1[index1] = nums2[j]\n",
        "      j -= 1\n",
        "      index1 -= 1\n",
        "  return nums1[index1]"
      ],
      "metadata": {
        "id": "LSgW6-jmeNRo"
      },
      "execution_count": null,
      "outputs": []
    },
    {
      "cell_type": "code",
      "source": [
        "merge([1,2,3,0,0,0],3,[2,5,6],3)"
      ],
      "metadata": {
        "colab": {
          "base_uri": "https://localhost:8080/"
        },
        "id": "R-Hm1GVOeS_a",
        "outputId": "c8cb4bfc-092d-417f-d5ea-cd954bd7d3ca"
      },
      "execution_count": null,
      "outputs": [
        {
          "output_type": "execute_result",
          "data": {
            "text/plain": [
              "1"
            ]
          },
          "metadata": {},
          "execution_count": 29
        }
      ]
    },
    {
      "cell_type": "code",
      "source": [],
      "metadata": {
        "colab": {
          "base_uri": "https://localhost:8080/",
          "height": 134
        },
        "id": "ov-GLB-agxwi",
        "outputId": "f21fe026-4580-498f-f7e6-fd46074bae7d"
      },
      "execution_count": null,
      "outputs": [
        {
          "output_type": "error",
          "ename": "SyntaxError",
          "evalue": "ignored",
          "traceback": [
            "\u001b[0;36m  File \u001b[0;32m\"<ipython-input-1-982751a0826d>\"\u001b[0;36m, line \u001b[0;32m5\u001b[0m\n\u001b[0;31m    len++\u001b[0m\n\u001b[0m         ^\u001b[0m\n\u001b[0;31mSyntaxError\u001b[0m\u001b[0;31m:\u001b[0m invalid syntax\n"
          ]
        }
      ]
    },
    {
      "cell_type": "code",
      "source": [
        "def removeElement(nums, val):\n",
        "  \"\"\"\n",
        "  :type nums: List[int]\n",
        "  :type val: int\n",
        "  :rtype: int\n",
        "  \"\"\"\n",
        "  print(nums)\n",
        "  i = 0\n",
        "  index = len(nums)\n",
        "  while i < index:\n",
        "      if  nums[i] == val:\n",
        "          nums[i], nums[index-1] = nums[index-1],nums[i]\n",
        "          index -= 1\n",
        "      else:\n",
        "          i += 1\n",
        "  print(index)\n",
        "  nums = nums[:index]\n",
        "  print(nums)"
      ],
      "metadata": {
        "id": "KqFY7ZkzJyDb"
      },
      "execution_count": null,
      "outputs": []
    },
    {
      "cell_type": "code",
      "source": [
        "removeElement([3,2,2,3], 3)"
      ],
      "metadata": {
        "colab": {
          "base_uri": "https://localhost:8080/"
        },
        "id": "6dnIrBFAI_TQ",
        "outputId": "63b67d13-5b63-4dc8-b4c0-9e3ef24d5c76"
      },
      "execution_count": null,
      "outputs": [
        {
          "output_type": "stream",
          "name": "stdout",
          "text": [
            "[3, 2, 2, 3]\n",
            "2\n",
            "[2, 2]\n"
          ]
        }
      ]
    },
    {
      "cell_type": "code",
      "source": [],
      "metadata": {
        "id": "WjOAvGxBJ1pO"
      },
      "execution_count": null,
      "outputs": []
    }
  ]
}