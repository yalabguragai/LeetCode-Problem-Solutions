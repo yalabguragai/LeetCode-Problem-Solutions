{
  "nbformat": 4,
  "nbformat_minor": 0,
  "metadata": {
    "colab": {
      "provenance": []
    },
    "kernelspec": {
      "name": "python3",
      "display_name": "Python 3"
    },
    "language_info": {
      "name": "python"
    }
  },
  "cells": [
    {
      "cell_type": "markdown",
      "source": [
        "# Replace Elements with Greatest Element on Right Side\n",
        "\n",
        "Given an array arr, replace every element in that array with the greatest element among the elements to its right, and replace the last element with -1.  \n",
        "\n",
        "After doing so, return the array.  \n",
        "\n",
        "\n",
        "\n",
        "**Example 1:**\n",
        "\n",
        "Input: arr = [17,18,5,4,6,1]  \n",
        "Output: [18,6,6,6,1,-1]  \n",
        "Explanation:   \n",
        "- index 0 --> the greatest element to the right of index 0 is index 1 (18).  \n",
        "- index 1 --> the greatest element to the right of index 1 is index 4 (6).\n",
        "- index 2 --> the greatest element to the right of index 2 is index 4 (6).\n",
        "- index 3 --> the greatest element to the right of index 3 is index 4 (6).\n",
        "- index 4 --> the greatest element to the right of index 4 is index 5 (1).\n",
        "- index 5 --> there are no elements to the right of index 5, so we put -1.\n",
        "\n",
        "**Example 2:**\n",
        "\n",
        "Input: arr = [400]  \n",
        "Output: [-1]  \n",
        "Explanation: There are no elements to the right of index 0."
      ],
      "metadata": {
        "id": "nQSxaLAe80iQ"
      }
    },
    {
      "cell_type": "code",
      "execution_count": null,
      "metadata": {
        "id": "rWCvWhQJ7RKN"
      },
      "outputs": [],
      "source": [
        "def replaceElements(arr):\n",
        "        \"\"\"\n",
        "        :type arr: List[int]\n",
        "        :rtype: List[int]\n",
        "        \"\"\"\n",
        "        n = len(arr)\n",
        "        max_value = -1\n",
        "        for i in range(n-1, -1, -1): #starting from the last and gradually comming to the first with one index decreasing\n",
        "            curr_value = arr[i] #storing current value\n",
        "            arr[i] = max_value #overwriting array when max value encounters\n",
        "            max_value = max(max_value, curr_value) #finding the max value from curent and maximum element\n",
        "        return arr\n"
      ]
    },
    {
      "cell_type": "code",
      "source": [
        "replaceElements([17,18,5,4,6,1])"
      ],
      "metadata": {
        "colab": {
          "base_uri": "https://localhost:8080/"
        },
        "id": "QgNjObm99Kd1",
        "outputId": "af86846f-2e45-417e-8909-474fec199634"
      },
      "execution_count": null,
      "outputs": [
        {
          "output_type": "execute_result",
          "data": {
            "text/plain": [
              "[18, 6, 6, 6, 1, -1]"
            ]
          },
          "metadata": {},
          "execution_count": 2
        }
      ]
    },
    {
      "cell_type": "code",
      "source": [
        "replaceElements([400])"
      ],
      "metadata": {
        "colab": {
          "base_uri": "https://localhost:8080/"
        },
        "id": "JOGYFnoQ9NLE",
        "outputId": "b5114605-50fe-4b48-9340-aa22b5466d5a"
      },
      "execution_count": null,
      "outputs": [
        {
          "output_type": "execute_result",
          "data": {
            "text/plain": [
              "[-1]"
            ]
          },
          "metadata": {},
          "execution_count": 3
        }
      ]
    },
    {
      "cell_type": "markdown",
      "source": [
        "# Move Zeros\n",
        "Given an integer array nums, move all 0's to the end of it while maintaining the relative order of the non-zero elements.  \n",
        "\n",
        "Note that you must do this in-place without making a copy of the array.  \n",
        "\n",
        "\n",
        "\n",
        "**Example 1:**\n",
        "\n",
        "Input: nums = [0,1,0,3,12]\n",
        "Output: [1,3,12,0,0]  \n",
        "\n",
        "**Example 2:**\n",
        "\n",
        "Input: nums = [0]   \n",
        "Output: [0]  \n"
      ],
      "metadata": {
        "id": "YAJspBOL9WHd"
      }
    },
    {
      "cell_type": "code",
      "source": [
        "def moveZeroes(nums):\n",
        "  \"\"\"\n",
        "  :type nums: List[int]\n",
        "  :rtype: None Do not return anything, modify nums in-place instead.\n",
        "  \"\"\"\n",
        "  zero_count = 0\n",
        "  for i in range(len(nums)):\n",
        "      if nums[i] != 0:\n",
        "          nums[i],nums[zero_count] = nums[zero_count],nums[i]\n",
        "          zero_count += 1\n",
        "  return zero_count"
      ],
      "metadata": {
        "id": "sOSC-hpO9Rfi"
      },
      "execution_count": null,
      "outputs": []
    },
    {
      "cell_type": "code",
      "source": [
        "moveZeroes([0,1,0,3,12])"
      ],
      "metadata": {
        "colab": {
          "base_uri": "https://localhost:8080/"
        },
        "id": "EjX_kJcF92C8",
        "outputId": "012aae79-bf11-4c13-b405-a386647f5822"
      },
      "execution_count": null,
      "outputs": [
        {
          "output_type": "execute_result",
          "data": {
            "text/plain": [
              "3"
            ]
          },
          "metadata": {},
          "execution_count": 5
        }
      ]
    },
    {
      "cell_type": "markdown",
      "source": [
        "# Sort Array By Parity\n",
        "\n",
        "Given an integer array nums, move all the even integers at the beginning of the array followed by all the odd integers.\n",
        "\n",
        "Return any array that satisfies this condition.\n",
        "\n",
        "**Example 1:**\n",
        "\n",
        "Input: nums = [3,1,2,4]  \n",
        "Output: [2,4,3,1]  \n",
        "Explanation: The outputs [4,2,3,1], [2,4,1,3], and [4,2,1,3] would also be accepted.  \n",
        "\n",
        "**Example 2:**\n",
        "Input: nums = [0]  \n",
        "Output: [0]  "
      ],
      "metadata": {
        "id": "Laqrwa7V97nJ"
      }
    },
    {
      "cell_type": "code",
      "source": [
        "def sortArrayByParity(nums):\n",
        "        \"\"\"\n",
        "        :type nums: List[int]\n",
        "        :rtype: List[int]\n",
        "        \"\"\"\n",
        "        count_even = 0\n",
        "        for i in range(len(nums)):\n",
        "            if (nums[i] %2 == 0):\n",
        "                nums[i],nums[count_even] = nums[count_even],nums[i]\n",
        "                count_even += 1\n",
        "        return nums"
      ],
      "metadata": {
        "id": "PzzV0Xxb95SV"
      },
      "execution_count": null,
      "outputs": []
    },
    {
      "cell_type": "code",
      "source": [
        "sortArrayByParity([3,1,2,4])"
      ],
      "metadata": {
        "id": "iIWwopr0D_oS",
        "outputId": "1e09c394-e0ea-470c-8046-d5d44e28df69",
        "colab": {
          "base_uri": "https://localhost:8080/"
        }
      },
      "execution_count": null,
      "outputs": [
        {
          "output_type": "execute_result",
          "data": {
            "text/plain": [
              "[2, 4, 3, 1]"
            ]
          },
          "metadata": {},
          "execution_count": 7
        }
      ]
    },
    {
      "cell_type": "code",
      "source": [],
      "metadata": {
        "id": "ct64gnLIEDY5"
      },
      "execution_count": null,
      "outputs": []
    }
  ]
}