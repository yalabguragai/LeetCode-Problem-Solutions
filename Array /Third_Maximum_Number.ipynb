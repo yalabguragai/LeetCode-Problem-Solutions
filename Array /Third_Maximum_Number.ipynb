{
  "nbformat": 4,
  "nbformat_minor": 0,
  "metadata": {
    "colab": {
      "provenance": []
    },
    "kernelspec": {
      "name": "python3",
      "display_name": "Python 3"
    },
    "language_info": {
      "name": "python"
    }
  },
  "cells": [
    {
      "cell_type": "markdown",
      "source": [
        "**Given an integer array nums, return the third distinct maximum number in this array. If the third maximum does not exist, return the maximum number.**\n",
        "\n",
        "Example 1:\n",
        "\n",
        "Input: nums = [3,2,1]    \n",
        "Output: 1    \n",
        "Explanation:  \n",
        "The first distinct maximum is 3.  \n",
        "The second distinct maximum is 2.\n",
        "The third distinct maximum is 1.  \n",
        "\n",
        "Example 2:\n",
        "\n",
        "Input: nums = [1,2]  \n",
        "Output: 2  \n",
        "Explanation:  \n",
        "The first distinct maximum is 2.  \n",
        "The second distinct maximum is 1.  \n",
        "The third distinct maximum does not exist, so the maximum (2) is returned instead.  \n",
        "\n",
        "Example 3:\n",
        "\n",
        "Input: nums = [2,2,3,1]  \n",
        "Output: 1  \n",
        "Explanation:  \n",
        "The first distinct maximum is 3.  \n",
        "The second distinct maximum is 2 (both 2's are counted together since they have the same value).  \n",
        "The third distinct maximum is 1.  "
      ],
      "metadata": {
        "id": "XbPJ1PxGaR0C"
      }
    },
    {
      "cell_type": "code",
      "execution_count": null,
      "metadata": {
        "id": "vSHf_asXaLeC"
      },
      "outputs": [],
      "source": [
        "def thirdMax(nums):\n",
        "  \"\"\"\n",
        "  :type nums: List[int]\n",
        "  :rtype: int\n",
        "  \"\"\"\n",
        "  nums.sort(reverse = True)\n",
        "  prevElem = nums[0]\n",
        "  elemCount = 1\n",
        "\n",
        "  for num in range(len(nums)):\n",
        "    if nums[num] != prevElem:\n",
        "      elemCount += 1\n",
        "      prevElem = nums[num]\n",
        "\n",
        "    if elemCount == 3:\n",
        "      return nums[num]\n",
        "\n",
        "  return nums[0]"
      ]
    },
    {
      "cell_type": "code",
      "source": [
        "thirdMax([2,2,3,1])"
      ],
      "metadata": {
        "colab": {
          "base_uri": "https://localhost:8080/"
        },
        "id": "pYo-4vpKbQmU",
        "outputId": "a9f9bdd2-ad9e-43a0-e706-f0e66e91b3e6"
      },
      "execution_count": null,
      "outputs": [
        {
          "output_type": "execute_result",
          "data": {
            "text/plain": [
              "1"
            ]
          },
          "metadata": {},
          "execution_count": 3
        }
      ]
    },
    {
      "cell_type": "code",
      "source": [],
      "metadata": {
        "id": "j-g8zWyRs3UR"
      },
      "execution_count": null,
      "outputs": []
    }
  ]
}