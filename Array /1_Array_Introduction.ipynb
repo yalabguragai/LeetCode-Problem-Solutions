{
  "nbformat": 4,
  "nbformat_minor": 0,
  "metadata": {
    "colab": {
      "provenance": []
    },
    "kernelspec": {
      "name": "python3",
      "display_name": "Python 3"
    },
    "language_info": {
      "name": "python"
    }
  },
  "cells": [
    {
      "cell_type": "markdown",
      "source": [
        "**Arrays are a simple data structure for storing lots of similar items. They exist in all programming languages, and are used as the basis for most other data structures. On their own, Arrays can be used to solve many interesting problems.**"
      ],
      "metadata": {
        "id": "YxIY5qml8S0d"
      }
    },
    {
      "cell_type": "markdown",
      "source": [
        "# **1. Max Consective Ones**\n",
        "\n",
        "Given a binary array nums, return the maximum number of consecutive 1's in the array.\n",
        "**Example 1:**\n",
        "\n",
        "Input: nums = [1,1,0,1,1,1]   \n",
        "Output: 3   \n",
        "Explanation: The first two digits or the last three digits are consecutive 1s. The maximum number of consecutive 1s is 3.\n",
        "\n",
        "**Example 2:**\n",
        "\n",
        "Input: nums = [1,0,1,1,0,1]  \n",
        "Output: 2"
      ],
      "metadata": {
        "id": "wl3wDmOn8mSv"
      }
    },
    {
      "cell_type": "code",
      "execution_count": null,
      "metadata": {
        "id": "gg-44kOh8PQ3"
      },
      "outputs": [],
      "source": [
        "def findMaxConsecutiveOnes(nums):\n",
        "    \"\"\"\n",
        "    :type nums: List[int]\n",
        "    :rtype: int\n",
        "    \"\"\"\n",
        "    max_count = 0\n",
        "    current_count = 0\n",
        "    for num in nums:\n",
        "        if num == 1:\n",
        "            current_count += 1\n",
        "        else:\n",
        "            max_count = max(max_count, current_count)\n",
        "            current_count =0\n",
        "    return max(max_count, current_count)"
      ]
    },
    {
      "cell_type": "code",
      "source": [
        "findMaxConsecutiveOnes([1,1,0,1,1,1])"
      ],
      "metadata": {
        "colab": {
          "base_uri": "https://localhost:8080/"
        },
        "id": "HFEkmLLF9amz",
        "outputId": "ec31849f-18a0-40e2-b4e8-0891cc7a6207"
      },
      "execution_count": null,
      "outputs": [
        {
          "output_type": "execute_result",
          "data": {
            "text/plain": [
              "3"
            ]
          },
          "metadata": {},
          "execution_count": 3
        }
      ]
    },
    {
      "cell_type": "markdown",
      "source": [
        "# 2. Find Numbers with Even Number of Digits\n",
        "\n",
        "Given an array nums of integers, return how many of them contain an even number of digits.\n",
        "\n",
        "\n",
        "Example 1:  \n",
        "\n",
        "Input: nums = [12,345,2,6,7896]  \n",
        "Output: 2  \n",
        "Explanation:   \n",
        "12 contains 2 digits (even number of digits).   \n",
        "345 contains 3 digits (odd number of digits).   \n",
        "2 contains 1 digit (odd number of digits).   \n",
        "6 contains 1 digit (odd number of digits).   \n",
        "7896 contains 4 digits (even number of digits).   \n",
        "Therefore only 12 and 7896 contain an even number of digits.  \n",
        "\n"
      ],
      "metadata": {
        "id": "-cOgs0yt9o9o"
      }
    },
    {
      "cell_type": "code",
      "source": [
        "def findNumbers(nums):\n",
        "  \"\"\"\n",
        "  :type nums: List[int]\n",
        "  :rtype: int\n",
        "  \"\"\"\n",
        "  counter = 0\n",
        "  for number in nums:\n",
        "    if len( str(number) ) % 2 == 0:\n",
        "      counter += 1\n",
        "  return counter"
      ],
      "metadata": {
        "id": "wQu1zzMR9904"
      },
      "execution_count": null,
      "outputs": []
    },
    {
      "cell_type": "code",
      "source": [
        "findNumbers([12,345,2,6,7896])"
      ],
      "metadata": {
        "colab": {
          "base_uri": "https://localhost:8080/"
        },
        "id": "aASqGs0q_QNR",
        "outputId": "bae4733f-0d80-40dd-d1c7-5940bc0a2945"
      },
      "execution_count": null,
      "outputs": [
        {
          "output_type": "execute_result",
          "data": {
            "text/plain": [
              "2"
            ]
          },
          "metadata": {},
          "execution_count": 8
        }
      ]
    },
    {
      "cell_type": "markdown",
      "source": [
        "# 3. Squares of a Sorted Array\n",
        "\n",
        "Given an integer array nums sorted in non-decreasing order, return an array of the squares of each number sorted in non-decreasing order.\n",
        "\n",
        "**Example 1:**\n",
        "\n",
        "Input: nums = [-4,-1,0,3,10]  \n",
        "Output: [0,1,9,16,100]  \n",
        "Explanation: After squaring, the array becomes [16,1,0,9,100].  \n",
        "After sorting, it becomes [0,1,9,16,100].  \n"
      ],
      "metadata": {
        "id": "Qa-3tJd3_qN2"
      }
    },
    {
      "cell_type": "code",
      "source": [
        "def sortedSquares(nums):\n",
        "    \"\"\"\n",
        "    :type nums: List[int]\n",
        "    :rtype: List[int]\n",
        "    \"\"\"\n",
        "    for num in range(len(nums)):\n",
        "        nums[num] = nums[num]** 2\n",
        "    nums.sort()\n",
        "    return nums"
      ],
      "metadata": {
        "id": "mB9wAEdz_yyw"
      },
      "execution_count": null,
      "outputs": []
    },
    {
      "cell_type": "code",
      "source": [
        "sortedSquares([-4,-1,0,3,10])"
      ],
      "metadata": {
        "colab": {
          "base_uri": "https://localhost:8080/"
        },
        "id": "k7FEak1J_2RK",
        "outputId": "86f1bc66-5bf4-4cef-8b6e-3303db5c0cb0"
      },
      "execution_count": null,
      "outputs": [
        {
          "output_type": "execute_result",
          "data": {
            "text/plain": [
              "[0, 1, 9, 16, 100]"
            ]
          },
          "metadata": {},
          "execution_count": 18
        }
      ]
    }
  ]
}